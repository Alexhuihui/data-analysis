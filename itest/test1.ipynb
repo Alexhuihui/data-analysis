{
 "cells": [
  {
   "cell_type": "code",
   "execution_count": 2,
   "metadata": {
    "collapsed": true
   },
   "outputs": [],
   "source": [
    "import pandas as pd"
   ]
  },
  {
   "cell_type": "code",
   "execution_count": 3,
   "metadata": {
    "collapsed": true
   },
   "outputs": [],
   "source": [
    "df = pd.read_csv(\"../data/HR.csv\")"
   ]
  },
  {
   "cell_type": "code",
   "execution_count": 4,
   "metadata": {},
   "outputs": [
    {
     "data": {
      "text/plain": [
       "0        0.38\n",
       "1        0.80\n",
       "2        0.11\n",
       "3        0.72\n",
       "4        0.37\n",
       "5        0.41\n",
       "6        0.10\n",
       "7        0.92\n",
       "8        0.89\n",
       "9        0.42\n",
       "10       0.45\n",
       "11       0.11\n",
       "12       0.84\n",
       "13       0.41\n",
       "14       0.36\n",
       "15       0.38\n",
       "16       0.45\n",
       "17       0.78\n",
       "18       0.45\n",
       "19       0.76\n",
       "20       0.11\n",
       "21       0.38\n",
       "22       0.09\n",
       "23       0.46\n",
       "24       0.40\n",
       "25       0.89\n",
       "26       0.82\n",
       "27       0.40\n",
       "28       0.41\n",
       "29       0.38\n",
       "         ... \n",
       "14972    0.11\n",
       "14973    0.36\n",
       "14974    0.36\n",
       "14975    0.10\n",
       "14976    0.40\n",
       "14977    0.81\n",
       "14978    0.40\n",
       "14979    0.09\n",
       "14980    0.76\n",
       "14981    0.73\n",
       "14982    0.38\n",
       "14983    0.72\n",
       "14984    0.40\n",
       "14985    0.91\n",
       "14986    0.85\n",
       "14987    0.90\n",
       "14988    0.46\n",
       "14989    0.43\n",
       "14990    0.89\n",
       "14991    0.09\n",
       "14992    0.40\n",
       "14993    0.76\n",
       "14994    0.40\n",
       "14995    0.37\n",
       "14996    0.37\n",
       "14997    0.11\n",
       "14998    0.37\n",
       "14999     NaN\n",
       "15000     NaN\n",
       "15001    0.70\n",
       "Name: satisfaction_level, Length: 15002, dtype: float64"
      ]
     },
     "execution_count": 4,
     "metadata": {},
     "output_type": "execute_result"
    }
   ],
   "source": [
    "df['satisfaction_level']"
   ]
  },
  {
   "cell_type": "code",
   "execution_count": null,
   "metadata": {
    "collapsed": true
   },
   "outputs": [],
   "source": []
  }
 ],
 "metadata": {
  "kernelspec": {
   "display_name": "Python 3",
   "language": "python",
   "name": "python3"
  },
  "language_info": {
   "codemirror_mode": {
    "name": "ipython",
    "version": 3
   },
   "file_extension": ".py",
   "mimetype": "text/x-python",
   "name": "python",
   "nbconvert_exporter": "python",
   "pygments_lexer": "ipython3",
   "version": "3.6.7"
  }
 },
 "nbformat": 4,
 "nbformat_minor": 2
}
